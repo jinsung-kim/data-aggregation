{
 "metadata": {
  "language_info": {
   "codemirror_mode": {
    "name": "ipython",
    "version": 3
   },
   "file_extension": ".py",
   "mimetype": "text/x-python",
   "name": "python",
   "nbconvert_exporter": "python",
   "pygments_lexer": "ipython3",
   "version": "3.8.3"
  },
  "orig_nbformat": 4,
  "kernelspec": {
   "name": "python3",
   "display_name": "Python 3.8.3 64-bit"
  },
  "interpreter": {
   "hash": "0adcc2737ebf6a4a119f135174df96668767fca1ef1112612db5ecadf2b6d608"
  }
 },
 "nbformat": 4,
 "nbformat_minor": 2,
 "cells": [
  {
   "cell_type": "code",
   "execution_count": 1,
   "metadata": {},
   "outputs": [],
   "source": [
    "# Import Libraries\n",
    "import pandas as pd\n",
    "import numpy as np\n",
    "import matplotlib.pyplot as plt"
   ]
  },
  {
   "source": [
    "## Reading the Data\n",
    "\n"
   ],
   "cell_type": "markdown",
   "metadata": {}
  },
  {
   "cell_type": "code",
   "execution_count": 2,
   "metadata": {},
   "outputs": [],
   "source": [
    "# Left foot sensor\n",
    "left_df = pd.read_csv(\"left.csv\")\n",
    "# Right foot sensor\n",
    "right_df = pd.read_csv(\"right.csv\")"
   ]
  },
  {
   "cell_type": "code",
   "execution_count": 3,
   "metadata": {},
   "outputs": [
    {
     "output_type": "execute_result",
     "data": {
      "text/plain": [
       "   timestamp  step  stride_pace  step_rate  stride_length  contact_time  \\\n",
       "0    33001.0     1       1.3705   120.0000         1.5702           642   \n",
       "1    34001.0     2       1.3667   119.4030         1.5702           636   \n",
       "2    35006.0     3       1.3590   115.8301         1.5702           660   \n",
       "3    36042.0     4       1.3475   115.4957         1.5702           669   \n",
       "4    37081.0     5       1.3513   120.4819         1.5702           636   \n",
       "\n",
       "   flight_ratio  power   shock  impact_gs  ...  yaw_excursion_fs_mp  \\\n",
       "0           0.0    159  3.1487     1.6016  ...               2.1719   \n",
       "1           0.0    158  3.5625     1.1172  ...               5.8438   \n",
       "2           0.0    158  2.6041     1.2344  ...               3.9219   \n",
       "3           0.0    157  2.9380     1.2305  ...               2.3906   \n",
       "4           0.0    157  2.4447     1.5547  ...               3.2656   \n",
       "\n",
       "   yaw_excursion_mp_to  yaw_excursion_swing  stance_velocity_max_fs_mp  \\\n",
       "0              18.0781              18.5781                   343.7500   \n",
       "1              14.1094              18.0781                   422.7905   \n",
       "2              11.9531              14.9063                   315.3076   \n",
       "3              16.9531              17.6563                   325.7446   \n",
       "4              14.9375              17.0625                   337.8906   \n",
       "\n",
       "   stance_velocity_max_mp_to  temperature  step_length  \\\n",
       "0                   546.9360          NaN       0.7851   \n",
       "1                   553.4058          NaN       0.7851   \n",
       "2                   505.0659          NaN       0.7851   \n",
       "3                   539.4897          NaN       0.7851   \n",
       "4                   535.5225          NaN       0.7851   \n",
       "\n",
       "   pronation_excursion_mp_to  stance_excursion_fs_mp  stance_excursion_mp_to  \n",
       "0                   -25.0625                 10.5938                 81.7969  \n",
       "1                   -17.7500                  8.8125                 76.6094  \n",
       "2                   -24.6875                  7.4531                 77.7188  \n",
       "3                   -28.5938                  3.2969                 80.7656  \n",
       "4                   -21.6094                 10.6875                 76.7969  \n",
       "\n",
       "[5 rows x 47 columns]"
      ],
      "text/html": "<div>\n<style scoped>\n    .dataframe tbody tr th:only-of-type {\n        vertical-align: middle;\n    }\n\n    .dataframe tbody tr th {\n        vertical-align: top;\n    }\n\n    .dataframe thead th {\n        text-align: right;\n    }\n</style>\n<table border=\"1\" class=\"dataframe\">\n  <thead>\n    <tr style=\"text-align: right;\">\n      <th></th>\n      <th>timestamp</th>\n      <th>step</th>\n      <th>stride_pace</th>\n      <th>step_rate</th>\n      <th>stride_length</th>\n      <th>contact_time</th>\n      <th>flight_ratio</th>\n      <th>power</th>\n      <th>shock</th>\n      <th>impact_gs</th>\n      <th>...</th>\n      <th>yaw_excursion_fs_mp</th>\n      <th>yaw_excursion_mp_to</th>\n      <th>yaw_excursion_swing</th>\n      <th>stance_velocity_max_fs_mp</th>\n      <th>stance_velocity_max_mp_to</th>\n      <th>temperature</th>\n      <th>step_length</th>\n      <th>pronation_excursion_mp_to</th>\n      <th>stance_excursion_fs_mp</th>\n      <th>stance_excursion_mp_to</th>\n    </tr>\n  </thead>\n  <tbody>\n    <tr>\n      <th>0</th>\n      <td>33001.0</td>\n      <td>1</td>\n      <td>1.3705</td>\n      <td>120.0000</td>\n      <td>1.5702</td>\n      <td>642</td>\n      <td>0.0</td>\n      <td>159</td>\n      <td>3.1487</td>\n      <td>1.6016</td>\n      <td>...</td>\n      <td>2.1719</td>\n      <td>18.0781</td>\n      <td>18.5781</td>\n      <td>343.7500</td>\n      <td>546.9360</td>\n      <td>NaN</td>\n      <td>0.7851</td>\n      <td>-25.0625</td>\n      <td>10.5938</td>\n      <td>81.7969</td>\n    </tr>\n    <tr>\n      <th>1</th>\n      <td>34001.0</td>\n      <td>2</td>\n      <td>1.3667</td>\n      <td>119.4030</td>\n      <td>1.5702</td>\n      <td>636</td>\n      <td>0.0</td>\n      <td>158</td>\n      <td>3.5625</td>\n      <td>1.1172</td>\n      <td>...</td>\n      <td>5.8438</td>\n      <td>14.1094</td>\n      <td>18.0781</td>\n      <td>422.7905</td>\n      <td>553.4058</td>\n      <td>NaN</td>\n      <td>0.7851</td>\n      <td>-17.7500</td>\n      <td>8.8125</td>\n      <td>76.6094</td>\n    </tr>\n    <tr>\n      <th>2</th>\n      <td>35006.0</td>\n      <td>3</td>\n      <td>1.3590</td>\n      <td>115.8301</td>\n      <td>1.5702</td>\n      <td>660</td>\n      <td>0.0</td>\n      <td>158</td>\n      <td>2.6041</td>\n      <td>1.2344</td>\n      <td>...</td>\n      <td>3.9219</td>\n      <td>11.9531</td>\n      <td>14.9063</td>\n      <td>315.3076</td>\n      <td>505.0659</td>\n      <td>NaN</td>\n      <td>0.7851</td>\n      <td>-24.6875</td>\n      <td>7.4531</td>\n      <td>77.7188</td>\n    </tr>\n    <tr>\n      <th>3</th>\n      <td>36042.0</td>\n      <td>4</td>\n      <td>1.3475</td>\n      <td>115.4957</td>\n      <td>1.5702</td>\n      <td>669</td>\n      <td>0.0</td>\n      <td>157</td>\n      <td>2.9380</td>\n      <td>1.2305</td>\n      <td>...</td>\n      <td>2.3906</td>\n      <td>16.9531</td>\n      <td>17.6563</td>\n      <td>325.7446</td>\n      <td>539.4897</td>\n      <td>NaN</td>\n      <td>0.7851</td>\n      <td>-28.5938</td>\n      <td>3.2969</td>\n      <td>80.7656</td>\n    </tr>\n    <tr>\n      <th>4</th>\n      <td>37081.0</td>\n      <td>5</td>\n      <td>1.3513</td>\n      <td>120.4819</td>\n      <td>1.5702</td>\n      <td>636</td>\n      <td>0.0</td>\n      <td>157</td>\n      <td>2.4447</td>\n      <td>1.5547</td>\n      <td>...</td>\n      <td>3.2656</td>\n      <td>14.9375</td>\n      <td>17.0625</td>\n      <td>337.8906</td>\n      <td>535.5225</td>\n      <td>NaN</td>\n      <td>0.7851</td>\n      <td>-21.6094</td>\n      <td>10.6875</td>\n      <td>76.7969</td>\n    </tr>\n  </tbody>\n</table>\n<p>5 rows × 47 columns</p>\n</div>"
     },
     "metadata": {},
     "execution_count": 3
    }
   ],
   "source": [
    "left_df.head()"
   ]
  },
  {
   "cell_type": "code",
   "execution_count": 4,
   "metadata": {},
   "outputs": [
    {
     "output_type": "execute_result",
     "data": {
      "text/plain": [
       "   timestamp  step  stride_pace  step_rate  stride_length  contact_time  \\\n",
       "0        0.0     1       1.4025   117.8782          1.625           640   \n",
       "1     1018.0     2       1.4065   120.9677          1.625           622   \n",
       "2     2010.0     3       1.3985   116.9591          1.625           656   \n",
       "3     3036.0     4       1.3946   119.0476          1.625           642   \n",
       "4     4044.0     5       1.3946   117.4168          1.625           654   \n",
       "\n",
       "   flight_ratio  power   shock  impact_gs  ...  yaw_excursion_fs_mp  \\\n",
       "0           0.0    203  1.3974     1.2188  ...               0.1563   \n",
       "1           0.0    203  3.0685     1.6641  ...               0.2813   \n",
       "2           0.0    203  3.2213     2.1328  ...               4.0469   \n",
       "3           0.0    202  2.8132     1.4766  ...               0.0781   \n",
       "4           0.0    202  3.1708     2.1484  ...               2.2188   \n",
       "\n",
       "   yaw_excursion_mp_to  yaw_excursion_swing  stance_velocity_max_fs_mp  \\\n",
       "0               3.3438               2.5781                   359.5581   \n",
       "1               2.1875               5.8125                   371.7041   \n",
       "2               3.0313               9.8750                   372.8638   \n",
       "3               3.7969               7.5469                   371.0938   \n",
       "4               3.3281               7.0469                   338.8062   \n",
       "\n",
       "   stance_velocity_max_mp_to  temperature  step_length  \\\n",
       "0                   535.4614          NaN       0.8125   \n",
       "1                   572.3267          NaN       0.8125   \n",
       "2                   548.5840          NaN       0.8125   \n",
       "3                   540.4053          NaN       0.8125   \n",
       "4                   544.0674          NaN       0.8125   \n",
       "\n",
       "   pronation_excursion_mp_to  stance_excursion_fs_mp  stance_excursion_mp_to  \n",
       "0                   -14.3750                 13.8438                 72.9219  \n",
       "1                   -12.1875                 19.8594                 67.5156  \n",
       "2                    -9.5313                 12.1406                 76.5313  \n",
       "3                   -12.7813                 12.8281                 77.0313  \n",
       "4                    -7.6875                 12.7188                 76.2656  \n",
       "\n",
       "[5 rows x 47 columns]"
      ],
      "text/html": "<div>\n<style scoped>\n    .dataframe tbody tr th:only-of-type {\n        vertical-align: middle;\n    }\n\n    .dataframe tbody tr th {\n        vertical-align: top;\n    }\n\n    .dataframe thead th {\n        text-align: right;\n    }\n</style>\n<table border=\"1\" class=\"dataframe\">\n  <thead>\n    <tr style=\"text-align: right;\">\n      <th></th>\n      <th>timestamp</th>\n      <th>step</th>\n      <th>stride_pace</th>\n      <th>step_rate</th>\n      <th>stride_length</th>\n      <th>contact_time</th>\n      <th>flight_ratio</th>\n      <th>power</th>\n      <th>shock</th>\n      <th>impact_gs</th>\n      <th>...</th>\n      <th>yaw_excursion_fs_mp</th>\n      <th>yaw_excursion_mp_to</th>\n      <th>yaw_excursion_swing</th>\n      <th>stance_velocity_max_fs_mp</th>\n      <th>stance_velocity_max_mp_to</th>\n      <th>temperature</th>\n      <th>step_length</th>\n      <th>pronation_excursion_mp_to</th>\n      <th>stance_excursion_fs_mp</th>\n      <th>stance_excursion_mp_to</th>\n    </tr>\n  </thead>\n  <tbody>\n    <tr>\n      <th>0</th>\n      <td>0.0</td>\n      <td>1</td>\n      <td>1.4025</td>\n      <td>117.8782</td>\n      <td>1.625</td>\n      <td>640</td>\n      <td>0.0</td>\n      <td>203</td>\n      <td>1.3974</td>\n      <td>1.2188</td>\n      <td>...</td>\n      <td>0.1563</td>\n      <td>3.3438</td>\n      <td>2.5781</td>\n      <td>359.5581</td>\n      <td>535.4614</td>\n      <td>NaN</td>\n      <td>0.8125</td>\n      <td>-14.3750</td>\n      <td>13.8438</td>\n      <td>72.9219</td>\n    </tr>\n    <tr>\n      <th>1</th>\n      <td>1018.0</td>\n      <td>2</td>\n      <td>1.4065</td>\n      <td>120.9677</td>\n      <td>1.625</td>\n      <td>622</td>\n      <td>0.0</td>\n      <td>203</td>\n      <td>3.0685</td>\n      <td>1.6641</td>\n      <td>...</td>\n      <td>0.2813</td>\n      <td>2.1875</td>\n      <td>5.8125</td>\n      <td>371.7041</td>\n      <td>572.3267</td>\n      <td>NaN</td>\n      <td>0.8125</td>\n      <td>-12.1875</td>\n      <td>19.8594</td>\n      <td>67.5156</td>\n    </tr>\n    <tr>\n      <th>2</th>\n      <td>2010.0</td>\n      <td>3</td>\n      <td>1.3985</td>\n      <td>116.9591</td>\n      <td>1.625</td>\n      <td>656</td>\n      <td>0.0</td>\n      <td>203</td>\n      <td>3.2213</td>\n      <td>2.1328</td>\n      <td>...</td>\n      <td>4.0469</td>\n      <td>3.0313</td>\n      <td>9.8750</td>\n      <td>372.8638</td>\n      <td>548.5840</td>\n      <td>NaN</td>\n      <td>0.8125</td>\n      <td>-9.5313</td>\n      <td>12.1406</td>\n      <td>76.5313</td>\n    </tr>\n    <tr>\n      <th>3</th>\n      <td>3036.0</td>\n      <td>4</td>\n      <td>1.3946</td>\n      <td>119.0476</td>\n      <td>1.625</td>\n      <td>642</td>\n      <td>0.0</td>\n      <td>202</td>\n      <td>2.8132</td>\n      <td>1.4766</td>\n      <td>...</td>\n      <td>0.0781</td>\n      <td>3.7969</td>\n      <td>7.5469</td>\n      <td>371.0938</td>\n      <td>540.4053</td>\n      <td>NaN</td>\n      <td>0.8125</td>\n      <td>-12.7813</td>\n      <td>12.8281</td>\n      <td>77.0313</td>\n    </tr>\n    <tr>\n      <th>4</th>\n      <td>4044.0</td>\n      <td>5</td>\n      <td>1.3946</td>\n      <td>117.4168</td>\n      <td>1.625</td>\n      <td>654</td>\n      <td>0.0</td>\n      <td>202</td>\n      <td>3.1708</td>\n      <td>2.1484</td>\n      <td>...</td>\n      <td>2.2188</td>\n      <td>3.3281</td>\n      <td>7.0469</td>\n      <td>338.8062</td>\n      <td>544.0674</td>\n      <td>NaN</td>\n      <td>0.8125</td>\n      <td>-7.6875</td>\n      <td>12.7188</td>\n      <td>76.2656</td>\n    </tr>\n  </tbody>\n</table>\n<p>5 rows × 47 columns</p>\n</div>"
     },
     "metadata": {},
     "execution_count": 4
    }
   ],
   "source": [
    "right_df.head()"
   ]
  },
  {
   "cell_type": "code",
   "execution_count": null,
   "metadata": {},
   "outputs": [],
   "source": []
  }
 ]
}